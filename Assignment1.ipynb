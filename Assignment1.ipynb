{
  "cells": [
    {
      "cell_type": "markdown",
      "metadata": {
        "id": "view-in-github",
        "colab_type": "text"
      },
      "source": [
        "<a href=\"https://colab.research.google.com/github/bhoowan12/Api-Testing/blob/main/Assignment1.ipynb\" target=\"_parent\"><img src=\"https://colab.research.google.com/assets/colab-badge.svg\" alt=\"Open In Colab\"/></a>"
      ]
    },
    {
      "cell_type": "markdown",
      "id": "cfadb4bd",
      "metadata": {
        "id": "cfadb4bd"
      },
      "source": [
        "## Exercises\n",
        "<br>\n",
        "1- Draw the lines\n",
        "<br>\n",
        "$y = 2x + 1$,\n",
        "<br>\n",
        "$y = 2x + 2$,\n",
        "<br>\n",
        "$y = 2x + 3$\n",
        "\n",
        "in the same figure.\n",
        "\n",
        "<br>\n",
        "\n",
        "Use different drawing colors and line types for your graphs to make them stand out in black and white. Set the image title and labels for the horizontal and vertical axes.\n",
        "\n",
        "<br>\n",
        "\n",
        "2- Create a numpy vector $x$ that contains the values $1,2,3,4,5,6,7,8,9$.\n",
        "\n",
        "Create another vector $y$ with the values $-0.57, -2.57, -4.80, -7.36, -8.78, -10.52, -12.85, -14.69, -16.78$.\n",
        "\n",
        "Draw the scattering pattern of the points $(x, y)$. Use the + symbol to represent points.\n",
        "\n",
        "<br>\n",
        "\n",
        "3- Read from CSV-file `weight-height.csv` to numpy-table information about the lengths and weights (in inches and pounds) of a group of students. Collect the lengths for the variable `length` and the weights for the variable `weight` by cutting the table.\n",
        "\n",
        "<br>\n",
        "\n",
        "Convert lengths from inches to centimeters and weights from pounds to kilograms.\n",
        "\n",
        "Calculate the means of the lengths and weights.\n",
        "\n",
        "Finally draw a histogram of the lengths.\n",
        "\n",
        "<br>\n",
        "\n",
        "4- Calculate the inverse matrix of matrix $A$ and  check with the matrix product that both $A A^{- 1}$ and $A^{- 1}$ A produce a unit matrix with ones in diagonals and zeros elsewhere (the values will not be exactly 1 and 0 due to floating point error).\n",
        "\n",
        "$A=\\begin{pmatrix} 1&2&3\\\\ 0&1&4\\\\ 5&6&0 \\end{pmatrix}$\n",
        "\n",
        "\n"
      ]
    },
    {
      "cell_type": "code",
      "source": [
        "import numpy as np\n",
        "import matplotlib.pyplot as plt\n",
        "\n",
        "# Define the range of x-values\n",
        "x = np.linspace(-5, 5, 100)  # Choose x-values from -5 to 5\n",
        "\n",
        "# Define the equations of the lines\n",
        "y1 = 2 * x + 1\n",
        "y2 = 2 * x + 2\n",
        "y3 = 2 * x + 3\n",
        "\n",
        "# Plot the lines\n",
        "plt.plot(x, y1, label='y = 2x + 1')\n",
        "plt.plot(x, y2, label='y = 2x + 2')\n",
        "plt.plot(x, y3, label='y = 2x + 3')\n",
        "\n",
        "# Add labels and legend\n",
        "plt.xlabel('x')\n",
        "plt.ylabel('y')\n",
        "plt.title('Plot of Lines')\n",
        "plt.legend()\n",
        "\n",
        "# Display the plot\n",
        "plt.grid(True)\n",
        "plt.axhline(0, color='black',linewidth=0.5)\n",
        "plt.axvline(0, color='black',linewidth=0.5)\n",
        "plt.show()\n"
      ],
      "metadata": {
        "id": "cfqlcBWB7sZB"
      },
      "id": "cfqlcBWB7sZB",
      "execution_count": null,
      "outputs": []
    },
    {
      "cell_type": "code",
      "source": [
        "import numpy as np\n",
        "import matplotlib.pyplot as plt\n",
        "\n",
        "# Create numpy vectors x and y\n",
        "x = np.array([1, 2, 3, 4, 5, 6, 7, 8, 9])\n",
        "y = np.array([-0.57, -2.57, -4.80, -7.36, -8.78, -10.52, -12.85, -14.69, -16.78])\n",
        "\n",
        "# Plot the scattering pattern of the points (x, y)\n",
        "plt.scatter(x, y, marker='+', color='blue', label='Data Points')\n",
        "\n",
        "# Add labels and title\n",
        "plt.xlabel('x')\n",
        "plt.ylabel('y')\n",
        "plt.title('Scattering Pattern of Points (x, y)')\n",
        "\n",
        "# Display the plot\n",
        "plt.grid(True)\n",
        "plt.legend()\n",
        "plt.show()\n"
      ],
      "metadata": {
        "id": "MvRlPjoU7mpp"
      },
      "id": "MvRlPjoU7mpp",
      "execution_count": null,
      "outputs": []
    },
    {
      "cell_type": "code",
      "source": [],
      "metadata": {
        "id": "QRZudefS81jq"
      },
      "id": "QRZudefS81jq",
      "execution_count": null,
      "outputs": []
    },
    {
      "cell_type": "code",
      "source": [
        "import numpy as np\n",
        "\n",
        "# Define matrix A\n",
        "A = np.array([[1, 2, 3],\n",
        "              [0, 1, 4],\n",
        "              [5, 6, 0]])\n",
        "\n",
        "# Calculate the inverse matrix of A\n",
        "A_inv = np.linalg.inv(A)\n",
        "\n",
        "# Print the inverse matrix\n",
        "print(\"Inverse of A:\")\n",
        "print(A_inv)\n",
        "\n",
        "# Check if A times A_inv gives the identity matrix\n",
        "identity1 = np.dot(A, A_inv)\n",
        "\n",
        "# Check if A_inv times A gives the identity matrix\n",
        "identity2 = np.dot(A_inv, A)\n",
        "\n",
        "# Print the results\n",
        "print(\"\\nA times A_inv:\")\n",
        "print(identity1)\n",
        "\n",
        "print(\"\\nA_inv times A:\")\n",
        "print(identity2)\n"
      ],
      "metadata": {
        "id": "JPTi1bll812V"
      },
      "id": "JPTi1bll812V",
      "execution_count": null,
      "outputs": []
    }
  ],
  "metadata": {
    "kernelspec": {
      "display_name": "Python 3 (ipykernel)",
      "language": "python",
      "name": "python3"
    },
    "language_info": {
      "codemirror_mode": {
        "name": "ipython",
        "version": 3
      },
      "file_extension": ".py",
      "mimetype": "text/x-python",
      "name": "python",
      "nbconvert_exporter": "python",
      "pygments_lexer": "ipython3",
      "version": "3.9.12"
    },
    "colab": {
      "provenance": [],
      "include_colab_link": true
    }
  },
  "nbformat": 4,
  "nbformat_minor": 5
}